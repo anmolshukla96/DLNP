{
  "nbformat": 4,
  "nbformat_minor": 0,
  "metadata": {
    "colab": {
      "provenance": []
    },
    "kernelspec": {
      "name": "python3",
      "display_name": "Python 3"
    },
    "language_info": {
      "name": "python"
    }
  },
  "cells": [
    {
      "cell_type": "code",
      "execution_count": 1,
      "metadata": {
        "id": "4PLM6eAu9sRE"
      },
      "outputs": [],
      "source": [
        "import pandas as pd\n",
        "import numpy as np\n",
        "from  pathlib import Path\n",
        "\n",
        "\n",
        "import tensorflow as tf\n",
        "from tensorflow import keras\n",
        "from tensorflow.keras import layers"
      ]
    },
    {
      "cell_type": "code",
      "source": [
        "from IPython.core.interactiveshell import InteractiveShell\n",
        "InteractiveShell.ast_node_interactivity = \"all\""
      ],
      "metadata": {
        "id": "BdUWWpKE96Vm"
      },
      "execution_count": 2,
      "outputs": []
    },
    {
      "cell_type": "code",
      "source": [
        "from google.colab import drive\n",
        "drive.mount('/gdrive')"
      ],
      "metadata": {
        "colab": {
          "base_uri": "https://localhost:8080/"
        },
        "id": "vHOk_VZw-CuX",
        "outputId": "b0dc7689-df14-4668-89a6-c16bd16c0a88"
      },
      "execution_count": 3,
      "outputs": [
        {
          "output_type": "stream",
          "name": "stdout",
          "text": [
            "Mounted at /gdrive\n"
          ]
        }
      ]
    },
    {
      "cell_type": "code",
      "source": [
        "# 2.1 Where is our data file:\n",
        "pathToFolder = \"/gdrive/MyDrive/deeplearning\""
      ],
      "metadata": {
        "id": "OXy9UsdD-TNB"
      },
      "execution_count": 4,
      "outputs": []
    },
    {
      "cell_type": "code",
      "source": [
        "# 2.2 Full file path:\n",
        "path = Path(pathToFolder) / \"mobile_price.csv\""
      ],
      "metadata": {
        "id": "7lbHQHve-TPT"
      },
      "execution_count": 5,
      "outputs": []
    },
    {
      "cell_type": "code",
      "source": [
        "# 3.0 Read data\n",
        "mp = pd.read_csv(path)\n",
        "mp.head()"
      ],
      "metadata": {
        "colab": {
          "base_uri": "https://localhost:8080/",
          "height": 300
        },
        "id": "kogaB_kY_BdV",
        "outputId": "f5f17d5e-b412-450d-d859-9cc1938bc1e7"
      },
      "execution_count": 20,
      "outputs": [
        {
          "output_type": "execute_result",
          "data": {
            "text/plain": [
              "   battery_power  blue  clock_speed  dual_sim  fc  four_g  int_memory  m_dep  \\\n",
              "0            842     0          2.2         0   1       0           7    0.6   \n",
              "1           1021     1          0.5         1   0       1          53    0.7   \n",
              "2            563     1          0.5         1   2       1          41    0.9   \n",
              "3            615     1          2.5         0   0       0          10    0.8   \n",
              "4           1821     1          1.2         0  13       1          44    0.6   \n",
              "\n",
              "   mobile_wt  n_cores  ...  px_height  px_width   ram  sc_h  sc_w  talk_time  \\\n",
              "0        188        2  ...         20       756  2549     9     7         19   \n",
              "1        136        3  ...        905      1988  2631    17     3          7   \n",
              "2        145        5  ...       1263      1716  2603    11     2          9   \n",
              "3        131        6  ...       1216      1786  2769    16     8         11   \n",
              "4        141        2  ...       1208      1212  1411     8     2         15   \n",
              "\n",
              "   three_g  touch_screen  wifi  price_range  \n",
              "0        0             0     1            1  \n",
              "1        1             1     0            2  \n",
              "2        1             1     0            2  \n",
              "3        1             0     0            2  \n",
              "4        1             1     0            1  \n",
              "\n",
              "[5 rows x 21 columns]"
            ],
            "text/html": [
              "\n",
              "\n",
              "  <div id=\"df-78a684ba-3bbc-4d77-83e1-53e2267994ea\">\n",
              "    <div class=\"colab-df-container\">\n",
              "      <div>\n",
              "<style scoped>\n",
              "    .dataframe tbody tr th:only-of-type {\n",
              "        vertical-align: middle;\n",
              "    }\n",
              "\n",
              "    .dataframe tbody tr th {\n",
              "        vertical-align: top;\n",
              "    }\n",
              "\n",
              "    .dataframe thead th {\n",
              "        text-align: right;\n",
              "    }\n",
              "</style>\n",
              "<table border=\"1\" class=\"dataframe\">\n",
              "  <thead>\n",
              "    <tr style=\"text-align: right;\">\n",
              "      <th></th>\n",
              "      <th>battery_power</th>\n",
              "      <th>blue</th>\n",
              "      <th>clock_speed</th>\n",
              "      <th>dual_sim</th>\n",
              "      <th>fc</th>\n",
              "      <th>four_g</th>\n",
              "      <th>int_memory</th>\n",
              "      <th>m_dep</th>\n",
              "      <th>mobile_wt</th>\n",
              "      <th>n_cores</th>\n",
              "      <th>...</th>\n",
              "      <th>px_height</th>\n",
              "      <th>px_width</th>\n",
              "      <th>ram</th>\n",
              "      <th>sc_h</th>\n",
              "      <th>sc_w</th>\n",
              "      <th>talk_time</th>\n",
              "      <th>three_g</th>\n",
              "      <th>touch_screen</th>\n",
              "      <th>wifi</th>\n",
              "      <th>price_range</th>\n",
              "    </tr>\n",
              "  </thead>\n",
              "  <tbody>\n",
              "    <tr>\n",
              "      <th>0</th>\n",
              "      <td>842</td>\n",
              "      <td>0</td>\n",
              "      <td>2.2</td>\n",
              "      <td>0</td>\n",
              "      <td>1</td>\n",
              "      <td>0</td>\n",
              "      <td>7</td>\n",
              "      <td>0.6</td>\n",
              "      <td>188</td>\n",
              "      <td>2</td>\n",
              "      <td>...</td>\n",
              "      <td>20</td>\n",
              "      <td>756</td>\n",
              "      <td>2549</td>\n",
              "      <td>9</td>\n",
              "      <td>7</td>\n",
              "      <td>19</td>\n",
              "      <td>0</td>\n",
              "      <td>0</td>\n",
              "      <td>1</td>\n",
              "      <td>1</td>\n",
              "    </tr>\n",
              "    <tr>\n",
              "      <th>1</th>\n",
              "      <td>1021</td>\n",
              "      <td>1</td>\n",
              "      <td>0.5</td>\n",
              "      <td>1</td>\n",
              "      <td>0</td>\n",
              "      <td>1</td>\n",
              "      <td>53</td>\n",
              "      <td>0.7</td>\n",
              "      <td>136</td>\n",
              "      <td>3</td>\n",
              "      <td>...</td>\n",
              "      <td>905</td>\n",
              "      <td>1988</td>\n",
              "      <td>2631</td>\n",
              "      <td>17</td>\n",
              "      <td>3</td>\n",
              "      <td>7</td>\n",
              "      <td>1</td>\n",
              "      <td>1</td>\n",
              "      <td>0</td>\n",
              "      <td>2</td>\n",
              "    </tr>\n",
              "    <tr>\n",
              "      <th>2</th>\n",
              "      <td>563</td>\n",
              "      <td>1</td>\n",
              "      <td>0.5</td>\n",
              "      <td>1</td>\n",
              "      <td>2</td>\n",
              "      <td>1</td>\n",
              "      <td>41</td>\n",
              "      <td>0.9</td>\n",
              "      <td>145</td>\n",
              "      <td>5</td>\n",
              "      <td>...</td>\n",
              "      <td>1263</td>\n",
              "      <td>1716</td>\n",
              "      <td>2603</td>\n",
              "      <td>11</td>\n",
              "      <td>2</td>\n",
              "      <td>9</td>\n",
              "      <td>1</td>\n",
              "      <td>1</td>\n",
              "      <td>0</td>\n",
              "      <td>2</td>\n",
              "    </tr>\n",
              "    <tr>\n",
              "      <th>3</th>\n",
              "      <td>615</td>\n",
              "      <td>1</td>\n",
              "      <td>2.5</td>\n",
              "      <td>0</td>\n",
              "      <td>0</td>\n",
              "      <td>0</td>\n",
              "      <td>10</td>\n",
              "      <td>0.8</td>\n",
              "      <td>131</td>\n",
              "      <td>6</td>\n",
              "      <td>...</td>\n",
              "      <td>1216</td>\n",
              "      <td>1786</td>\n",
              "      <td>2769</td>\n",
              "      <td>16</td>\n",
              "      <td>8</td>\n",
              "      <td>11</td>\n",
              "      <td>1</td>\n",
              "      <td>0</td>\n",
              "      <td>0</td>\n",
              "      <td>2</td>\n",
              "    </tr>\n",
              "    <tr>\n",
              "      <th>4</th>\n",
              "      <td>1821</td>\n",
              "      <td>1</td>\n",
              "      <td>1.2</td>\n",
              "      <td>0</td>\n",
              "      <td>13</td>\n",
              "      <td>1</td>\n",
              "      <td>44</td>\n",
              "      <td>0.6</td>\n",
              "      <td>141</td>\n",
              "      <td>2</td>\n",
              "      <td>...</td>\n",
              "      <td>1208</td>\n",
              "      <td>1212</td>\n",
              "      <td>1411</td>\n",
              "      <td>8</td>\n",
              "      <td>2</td>\n",
              "      <td>15</td>\n",
              "      <td>1</td>\n",
              "      <td>1</td>\n",
              "      <td>0</td>\n",
              "      <td>1</td>\n",
              "    </tr>\n",
              "  </tbody>\n",
              "</table>\n",
              "<p>5 rows × 21 columns</p>\n",
              "</div>\n",
              "      <button class=\"colab-df-convert\" onclick=\"convertToInteractive('df-78a684ba-3bbc-4d77-83e1-53e2267994ea')\"\n",
              "              title=\"Convert this dataframe to an interactive table.\"\n",
              "              style=\"display:none;\">\n",
              "\n",
              "  <svg xmlns=\"http://www.w3.org/2000/svg\" height=\"24px\"viewBox=\"0 0 24 24\"\n",
              "       width=\"24px\">\n",
              "    <path d=\"M0 0h24v24H0V0z\" fill=\"none\"/>\n",
              "    <path d=\"M18.56 5.44l.94 2.06.94-2.06 2.06-.94-2.06-.94-.94-2.06-.94 2.06-2.06.94zm-11 1L8.5 8.5l.94-2.06 2.06-.94-2.06-.94L8.5 2.5l-.94 2.06-2.06.94zm10 10l.94 2.06.94-2.06 2.06-.94-2.06-.94-.94-2.06-.94 2.06-2.06.94z\"/><path d=\"M17.41 7.96l-1.37-1.37c-.4-.4-.92-.59-1.43-.59-.52 0-1.04.2-1.43.59L10.3 9.45l-7.72 7.72c-.78.78-.78 2.05 0 2.83L4 21.41c.39.39.9.59 1.41.59.51 0 1.02-.2 1.41-.59l7.78-7.78 2.81-2.81c.8-.78.8-2.07 0-2.86zM5.41 20L4 18.59l7.72-7.72 1.47 1.35L5.41 20z\"/>\n",
              "  </svg>\n",
              "      </button>\n",
              "\n",
              "\n",
              "\n",
              "    <div id=\"df-24483bd5-1937-4a39-b03b-1ec4e71d23b1\">\n",
              "      <button class=\"colab-df-quickchart\" onclick=\"quickchart('df-24483bd5-1937-4a39-b03b-1ec4e71d23b1')\"\n",
              "              title=\"Suggest charts.\"\n",
              "              style=\"display:none;\">\n",
              "\n",
              "<svg xmlns=\"http://www.w3.org/2000/svg\" height=\"24px\"viewBox=\"0 0 24 24\"\n",
              "     width=\"24px\">\n",
              "    <g>\n",
              "        <path d=\"M19 3H5c-1.1 0-2 .9-2 2v14c0 1.1.9 2 2 2h14c1.1 0 2-.9 2-2V5c0-1.1-.9-2-2-2zM9 17H7v-7h2v7zm4 0h-2V7h2v10zm4 0h-2v-4h2v4z\"/>\n",
              "    </g>\n",
              "</svg>\n",
              "      </button>\n",
              "    </div>\n",
              "\n",
              "<style>\n",
              "  .colab-df-quickchart {\n",
              "    background-color: #E8F0FE;\n",
              "    border: none;\n",
              "    border-radius: 50%;\n",
              "    cursor: pointer;\n",
              "    display: none;\n",
              "    fill: #1967D2;\n",
              "    height: 32px;\n",
              "    padding: 0 0 0 0;\n",
              "    width: 32px;\n",
              "  }\n",
              "\n",
              "  .colab-df-quickchart:hover {\n",
              "    background-color: #E2EBFA;\n",
              "    box-shadow: 0px 1px 2px rgba(60, 64, 67, 0.3), 0px 1px 3px 1px rgba(60, 64, 67, 0.15);\n",
              "    fill: #174EA6;\n",
              "  }\n",
              "\n",
              "  [theme=dark] .colab-df-quickchart {\n",
              "    background-color: #3B4455;\n",
              "    fill: #D2E3FC;\n",
              "  }\n",
              "\n",
              "  [theme=dark] .colab-df-quickchart:hover {\n",
              "    background-color: #434B5C;\n",
              "    box-shadow: 0px 1px 3px 1px rgba(0, 0, 0, 0.15);\n",
              "    filter: drop-shadow(0px 1px 2px rgba(0, 0, 0, 0.3));\n",
              "    fill: #FFFFFF;\n",
              "  }\n",
              "</style>\n",
              "\n",
              "    <script>\n",
              "      async function quickchart(key) {\n",
              "        const containerElement = document.querySelector('#' + key);\n",
              "        const charts = await google.colab.kernel.invokeFunction(\n",
              "            'suggestCharts', [key], {});\n",
              "      }\n",
              "    </script>\n",
              "\n",
              "      <script>\n",
              "\n",
              "function displayQuickchartButton(domScope) {\n",
              "  let quickchartButtonEl =\n",
              "    domScope.querySelector('#df-24483bd5-1937-4a39-b03b-1ec4e71d23b1 button.colab-df-quickchart');\n",
              "  quickchartButtonEl.style.display =\n",
              "    google.colab.kernel.accessAllowed ? 'block' : 'none';\n",
              "}\n",
              "\n",
              "        displayQuickchartButton(document);\n",
              "      </script>\n",
              "      <style>\n",
              "    .colab-df-container {\n",
              "      display:flex;\n",
              "      flex-wrap:wrap;\n",
              "      gap: 12px;\n",
              "    }\n",
              "\n",
              "    .colab-df-convert {\n",
              "      background-color: #E8F0FE;\n",
              "      border: none;\n",
              "      border-radius: 50%;\n",
              "      cursor: pointer;\n",
              "      display: none;\n",
              "      fill: #1967D2;\n",
              "      height: 32px;\n",
              "      padding: 0 0 0 0;\n",
              "      width: 32px;\n",
              "    }\n",
              "\n",
              "    .colab-df-convert:hover {\n",
              "      background-color: #E2EBFA;\n",
              "      box-shadow: 0px 1px 2px rgba(60, 64, 67, 0.3), 0px 1px 3px 1px rgba(60, 64, 67, 0.15);\n",
              "      fill: #174EA6;\n",
              "    }\n",
              "\n",
              "    [theme=dark] .colab-df-convert {\n",
              "      background-color: #3B4455;\n",
              "      fill: #D2E3FC;\n",
              "    }\n",
              "\n",
              "    [theme=dark] .colab-df-convert:hover {\n",
              "      background-color: #434B5C;\n",
              "      box-shadow: 0px 1px 3px 1px rgba(0, 0, 0, 0.15);\n",
              "      filter: drop-shadow(0px 1px 2px rgba(0, 0, 0, 0.3));\n",
              "      fill: #FFFFFF;\n",
              "    }\n",
              "  </style>\n",
              "\n",
              "      <script>\n",
              "        const buttonEl =\n",
              "          document.querySelector('#df-78a684ba-3bbc-4d77-83e1-53e2267994ea button.colab-df-convert');\n",
              "        buttonEl.style.display =\n",
              "          google.colab.kernel.accessAllowed ? 'block' : 'none';\n",
              "\n",
              "        async function convertToInteractive(key) {\n",
              "          const element = document.querySelector('#df-78a684ba-3bbc-4d77-83e1-53e2267994ea');\n",
              "          const dataTable =\n",
              "            await google.colab.kernel.invokeFunction('convertToInteractive',\n",
              "                                                     [key], {});\n",
              "          if (!dataTable) return;\n",
              "\n",
              "          const docLinkHtml = 'Like what you see? Visit the ' +\n",
              "            '<a target=\"_blank\" href=https://colab.research.google.com/notebooks/data_table.ipynb>data table notebook</a>'\n",
              "            + ' to learn more about interactive tables.';\n",
              "          element.innerHTML = '';\n",
              "          dataTable['output_type'] = 'display_data';\n",
              "          await google.colab.output.renderOutput(dataTable, element);\n",
              "          const docLink = document.createElement('div');\n",
              "          docLink.innerHTML = docLinkHtml;\n",
              "          element.appendChild(docLink);\n",
              "        }\n",
              "      </script>\n",
              "    </div>\n",
              "  </div>\n"
            ]
          },
          "metadata": {},
          "execution_count": 20
        }
      ]
    },
    {
      "cell_type": "code",
      "source": [
        "mp.columns"
      ],
      "metadata": {
        "colab": {
          "base_uri": "https://localhost:8080/"
        },
        "id": "5t9jCiN-I9iO",
        "outputId": "c5bf7d04-8308-4292-b34f-0a89c003380a"
      },
      "execution_count": 21,
      "outputs": [
        {
          "output_type": "execute_result",
          "data": {
            "text/plain": [
              "Index(['battery_power', 'blue', 'clock_speed', 'dual_sim', 'fc', 'four_g',\n",
              "       'int_memory', 'm_dep', 'mobile_wt', 'n_cores', 'pc', 'px_height',\n",
              "       'px_width', 'ram', 'sc_h', 'sc_w', 'talk_time', 'three_g',\n",
              "       'touch_screen', 'wifi', 'price_range'],\n",
              "      dtype='object')"
            ]
          },
          "metadata": {},
          "execution_count": 21
        }
      ]
    },
    {
      "cell_type": "code",
      "source": [
        "mp.dtypes"
      ],
      "metadata": {
        "colab": {
          "base_uri": "https://localhost:8080/"
        },
        "id": "EBnXmtnLGGf5",
        "outputId": "2064e278-18d7-4119-a9f7-cf570d78957c"
      },
      "execution_count": 22,
      "outputs": [
        {
          "output_type": "execute_result",
          "data": {
            "text/plain": [
              "battery_power      int64\n",
              "blue               int64\n",
              "clock_speed      float64\n",
              "dual_sim           int64\n",
              "fc                 int64\n",
              "four_g             int64\n",
              "int_memory         int64\n",
              "m_dep            float64\n",
              "mobile_wt          int64\n",
              "n_cores            int64\n",
              "pc                 int64\n",
              "px_height          int64\n",
              "px_width           int64\n",
              "ram                int64\n",
              "sc_h               int64\n",
              "sc_w               int64\n",
              "talk_time          int64\n",
              "three_g            int64\n",
              "touch_screen       int64\n",
              "wifi               int64\n",
              "price_range        int64\n",
              "dtype: object"
            ]
          },
          "metadata": {},
          "execution_count": 22
        }
      ]
    },
    {
      "cell_type": "code",
      "source": [
        "mp.shape"
      ],
      "metadata": {
        "colab": {
          "base_uri": "https://localhost:8080/"
        },
        "id": "mq10-S7xGLpm",
        "outputId": "9e44db82-f756-4b16-f0b9-b524bdd9c659"
      },
      "execution_count": 8,
      "outputs": [
        {
          "output_type": "execute_result",
          "data": {
            "text/plain": [
              "(2000, 21)"
            ]
          },
          "metadata": {},
          "execution_count": 8
        }
      ]
    },
    {
      "cell_type": "code",
      "source": [
        "# 3.2 Get target and predictors:\n",
        "y = mp.pop(\"mobile_wt\")\n",
        "X = mp\n",
        "\n"
      ],
      "metadata": {
        "id": "N0liNbDOJI4y"
      },
      "execution_count": 23,
      "outputs": []
    },
    {
      "cell_type": "code",
      "source": [
        "model = tf.keras.Sequential()"
      ],
      "metadata": {
        "id": "_MIq70ciJcJ-"
      },
      "execution_count": 64,
      "outputs": []
    },
    {
      "cell_type": "code",
      "source": [
        "model.add(layers.Input( shape = (20,) ) )"
      ],
      "metadata": {
        "id": "sdgt7E06KN6e"
      },
      "execution_count": 65,
      "outputs": []
    },
    {
      "cell_type": "code",
      "source": [
        "model.add(layers.Dense(512, activation = 'relu'))"
      ],
      "metadata": {
        "id": "_9qvcKYWRiUe"
      },
      "execution_count": 75,
      "outputs": []
    },
    {
      "cell_type": "code",
      "source": [
        "model.add(layers.Dense(256, activation = 'relu'))"
      ],
      "metadata": {
        "id": "8OZJ9ZtgRlV_"
      },
      "execution_count": 76,
      "outputs": []
    },
    {
      "cell_type": "code",
      "source": [
        "model.add(layers.Dense(1))"
      ],
      "metadata": {
        "id": "yEigadlyKZap"
      },
      "execution_count": 66,
      "outputs": []
    },
    {
      "cell_type": "code",
      "source": [
        "weights= model.weights"
      ],
      "metadata": {
        "id": "h3wJaIoNLtCz"
      },
      "execution_count": 67,
      "outputs": []
    },
    {
      "cell_type": "code",
      "source": [
        "weights"
      ],
      "metadata": {
        "colab": {
          "base_uri": "https://localhost:8080/"
        },
        "id": "r-yaMdSQLtRP",
        "outputId": "b29f4c59-4072-4603-a0bd-f4dad72ec567"
      },
      "execution_count": 68,
      "outputs": [
        {
          "output_type": "execute_result",
          "data": {
            "text/plain": [
              "[<tf.Variable 'dense_5/kernel:0' shape=(20, 1) dtype=float32, numpy=\n",
              " array([[-0.1606153 ],\n",
              "        [ 0.19739604],\n",
              "        [ 0.2659272 ],\n",
              "        [ 0.43159562],\n",
              "        [ 0.4820302 ],\n",
              "        [ 0.4890837 ],\n",
              "        [ 0.3669334 ],\n",
              "        [ 0.19731778],\n",
              "        [-0.27408642],\n",
              "        [-0.24118686],\n",
              "        [-0.11827168],\n",
              "        [ 0.15455425],\n",
              "        [-0.19836637],\n",
              "        [ 0.43107325],\n",
              "        [-0.5008677 ],\n",
              "        [ 0.0479691 ],\n",
              "        [ 0.24416399],\n",
              "        [-0.03423131],\n",
              "        [ 0.26703322],\n",
              "        [-0.39479053]], dtype=float32)>,\n",
              " <tf.Variable 'dense_5/bias:0' shape=(1,) dtype=float32, numpy=array([0.], dtype=float32)>]"
            ]
          },
          "metadata": {},
          "execution_count": 68
        }
      ]
    },
    {
      "cell_type": "code",
      "source": [
        "bias"
      ],
      "metadata": {
        "colab": {
          "base_uri": "https://localhost:8080/"
        },
        "id": "jSiYdwOeL3qw",
        "outputId": "e6ea8812-6d53-42e8-caa3-ab62f5a10c3d"
      },
      "execution_count": 69,
      "outputs": [
        {
          "output_type": "execute_result",
          "data": {
            "text/plain": [
              "<tf.Variable 'dense/bias:0' shape=(1,) dtype=float32, numpy=array([0.], dtype=float32)>"
            ]
          },
          "metadata": {},
          "execution_count": 69
        }
      ]
    },
    {
      "cell_type": "code",
      "source": [
        "model.compile( loss = \"mae\")"
      ],
      "metadata": {
        "id": "_I_SwvYUKnGE"
      },
      "execution_count": 77,
      "outputs": []
    },
    {
      "cell_type": "code",
      "source": [
        "model.fit(X,y, epochs = 100 )"
      ],
      "metadata": {
        "colab": {
          "base_uri": "https://localhost:8080/"
        },
        "id": "zhYJFA3mN3YP",
        "outputId": "86d726aa-73fc-4f84-cf9d-4c201a54d6f5"
      },
      "execution_count": 78,
      "outputs": [
        {
          "output_type": "stream",
          "name": "stdout",
          "text": [
            "Epoch 1/100\n",
            "63/63 [==============================] - 1s 5ms/step - loss: 91.1804\n",
            "Epoch 2/100\n",
            "63/63 [==============================] - 0s 5ms/step - loss: 86.0499\n",
            "Epoch 3/100\n",
            "63/63 [==============================] - 0s 5ms/step - loss: 85.7323\n",
            "Epoch 4/100\n",
            "63/63 [==============================] - 0s 5ms/step - loss: 85.6434\n",
            "Epoch 5/100\n",
            "63/63 [==============================] - 0s 5ms/step - loss: 85.4630\n",
            "Epoch 6/100\n",
            "63/63 [==============================] - 0s 5ms/step - loss: 85.4215\n",
            "Epoch 7/100\n",
            "63/63 [==============================] - 0s 4ms/step - loss: 85.4145\n",
            "Epoch 8/100\n",
            "63/63 [==============================] - 0s 5ms/step - loss: 84.6148\n",
            "Epoch 9/100\n",
            "63/63 [==============================] - 0s 5ms/step - loss: 84.5201\n",
            "Epoch 10/100\n",
            "63/63 [==============================] - 0s 5ms/step - loss: 84.3943\n",
            "Epoch 11/100\n",
            "63/63 [==============================] - 0s 5ms/step - loss: 84.4769\n",
            "Epoch 12/100\n",
            "63/63 [==============================] - 0s 5ms/step - loss: 84.0925\n",
            "Epoch 13/100\n",
            "63/63 [==============================] - 0s 4ms/step - loss: 83.5532\n",
            "Epoch 14/100\n",
            "63/63 [==============================] - 0s 4ms/step - loss: 83.5424\n",
            "Epoch 15/100\n",
            "63/63 [==============================] - 0s 4ms/step - loss: 83.5876\n",
            "Epoch 16/100\n",
            "63/63 [==============================] - 0s 5ms/step - loss: 83.5589\n",
            "Epoch 17/100\n",
            "63/63 [==============================] - 0s 5ms/step - loss: 83.5774\n",
            "Epoch 18/100\n",
            "63/63 [==============================] - 0s 4ms/step - loss: 83.4749\n",
            "Epoch 19/100\n",
            "63/63 [==============================] - 0s 4ms/step - loss: 83.5777\n",
            "Epoch 20/100\n",
            "63/63 [==============================] - 0s 4ms/step - loss: 83.5611\n",
            "Epoch 21/100\n",
            "63/63 [==============================] - 0s 4ms/step - loss: 83.2824\n",
            "Epoch 22/100\n",
            "63/63 [==============================] - 0s 4ms/step - loss: 83.0525\n",
            "Epoch 23/100\n",
            "63/63 [==============================] - 0s 5ms/step - loss: 82.9541\n",
            "Epoch 24/100\n",
            "63/63 [==============================] - 0s 7ms/step - loss: 83.0649\n",
            "Epoch 25/100\n",
            "63/63 [==============================] - 0s 6ms/step - loss: 83.1056\n",
            "Epoch 26/100\n",
            "63/63 [==============================] - 0s 6ms/step - loss: 83.0767\n",
            "Epoch 27/100\n",
            "63/63 [==============================] - 0s 7ms/step - loss: 83.0927\n",
            "Epoch 28/100\n",
            "63/63 [==============================] - 0s 7ms/step - loss: 83.0451\n",
            "Epoch 29/100\n",
            "63/63 [==============================] - 0s 7ms/step - loss: 83.1011\n",
            "Epoch 30/100\n",
            "63/63 [==============================] - 0s 7ms/step - loss: 83.1523\n",
            "Epoch 31/100\n",
            "63/63 [==============================] - 0s 7ms/step - loss: 83.0733\n",
            "Epoch 32/100\n",
            "63/63 [==============================] - 0s 7ms/step - loss: 83.1584\n",
            "Epoch 33/100\n",
            "63/63 [==============================] - 0s 7ms/step - loss: 83.1396\n",
            "Epoch 34/100\n",
            "63/63 [==============================] - 0s 7ms/step - loss: 83.1850\n",
            "Epoch 35/100\n",
            "63/63 [==============================] - 0s 4ms/step - loss: 83.0821\n",
            "Epoch 36/100\n",
            "63/63 [==============================] - 0s 4ms/step - loss: 83.0244\n",
            "Epoch 37/100\n",
            "63/63 [==============================] - 0s 5ms/step - loss: 83.1598\n",
            "Epoch 38/100\n",
            "63/63 [==============================] - 0s 5ms/step - loss: 83.0818\n",
            "Epoch 39/100\n",
            "63/63 [==============================] - 0s 5ms/step - loss: 83.0867\n",
            "Epoch 40/100\n",
            "63/63 [==============================] - 0s 4ms/step - loss: 82.9785\n",
            "Epoch 41/100\n",
            "63/63 [==============================] - 0s 5ms/step - loss: 82.9887\n",
            "Epoch 42/100\n",
            "63/63 [==============================] - 0s 4ms/step - loss: 83.0692\n",
            "Epoch 43/100\n",
            "63/63 [==============================] - 0s 4ms/step - loss: 83.1416\n",
            "Epoch 44/100\n",
            "63/63 [==============================] - 0s 5ms/step - loss: 83.1198\n",
            "Epoch 45/100\n",
            "63/63 [==============================] - 0s 5ms/step - loss: 83.0681\n",
            "Epoch 46/100\n",
            "63/63 [==============================] - 0s 5ms/step - loss: 83.0278\n",
            "Epoch 47/100\n",
            "63/63 [==============================] - 0s 4ms/step - loss: 82.9871\n",
            "Epoch 48/100\n",
            "63/63 [==============================] - 0s 5ms/step - loss: 83.0031\n",
            "Epoch 49/100\n",
            "63/63 [==============================] - 0s 4ms/step - loss: 83.0192\n",
            "Epoch 50/100\n",
            "63/63 [==============================] - 0s 5ms/step - loss: 83.0698\n",
            "Epoch 51/100\n",
            "63/63 [==============================] - 0s 5ms/step - loss: 83.0694\n",
            "Epoch 52/100\n",
            "63/63 [==============================] - 0s 5ms/step - loss: 83.0344\n",
            "Epoch 53/100\n",
            "63/63 [==============================] - 0s 5ms/step - loss: 82.6559\n",
            "Epoch 54/100\n",
            "63/63 [==============================] - 0s 5ms/step - loss: 82.5879\n",
            "Epoch 55/100\n",
            "63/63 [==============================] - 0s 5ms/step - loss: 82.5276\n",
            "Epoch 56/100\n",
            "63/63 [==============================] - 0s 5ms/step - loss: 82.5400\n",
            "Epoch 57/100\n",
            "63/63 [==============================] - 0s 6ms/step - loss: 82.5042\n",
            "Epoch 58/100\n",
            "63/63 [==============================] - 0s 5ms/step - loss: 82.5075\n",
            "Epoch 59/100\n",
            "63/63 [==============================] - 0s 5ms/step - loss: 82.5601\n",
            "Epoch 60/100\n",
            "63/63 [==============================] - 0s 4ms/step - loss: 82.5204\n",
            "Epoch 61/100\n",
            "63/63 [==============================] - 0s 5ms/step - loss: 82.6020\n",
            "Epoch 62/100\n",
            "63/63 [==============================] - 0s 5ms/step - loss: 82.5890\n",
            "Epoch 63/100\n",
            "63/63 [==============================] - 0s 5ms/step - loss: 82.5414\n",
            "Epoch 64/100\n",
            "63/63 [==============================] - 0s 5ms/step - loss: 82.7308\n",
            "Epoch 65/100\n",
            "63/63 [==============================] - 0s 5ms/step - loss: 82.6705\n",
            "Epoch 66/100\n",
            "63/63 [==============================] - 0s 5ms/step - loss: 82.5728\n",
            "Epoch 67/100\n",
            "63/63 [==============================] - 0s 6ms/step - loss: 82.6065\n",
            "Epoch 68/100\n",
            "63/63 [==============================] - 0s 7ms/step - loss: 82.5337\n",
            "Epoch 69/100\n",
            "63/63 [==============================] - 1s 8ms/step - loss: 82.4044\n",
            "Epoch 70/100\n",
            "63/63 [==============================] - 0s 8ms/step - loss: 82.5486\n",
            "Epoch 71/100\n",
            "63/63 [==============================] - 0s 7ms/step - loss: 82.6217\n",
            "Epoch 72/100\n",
            "63/63 [==============================] - 0s 7ms/step - loss: 82.5267\n",
            "Epoch 73/100\n",
            "63/63 [==============================] - 0s 7ms/step - loss: 82.5202\n",
            "Epoch 74/100\n",
            "63/63 [==============================] - 0s 7ms/step - loss: 82.5860\n",
            "Epoch 75/100\n",
            "63/63 [==============================] - 0s 7ms/step - loss: 82.6155\n",
            "Epoch 76/100\n",
            "63/63 [==============================] - 1s 8ms/step - loss: 82.6023\n",
            "Epoch 77/100\n",
            "63/63 [==============================] - 0s 8ms/step - loss: 82.5313\n",
            "Epoch 78/100\n",
            "63/63 [==============================] - 0s 5ms/step - loss: 82.5285\n",
            "Epoch 79/100\n",
            "63/63 [==============================] - 0s 5ms/step - loss: 82.5717\n",
            "Epoch 80/100\n",
            "63/63 [==============================] - 0s 5ms/step - loss: 82.5756\n",
            "Epoch 81/100\n",
            "63/63 [==============================] - 0s 4ms/step - loss: 82.5281\n",
            "Epoch 82/100\n",
            "63/63 [==============================] - 0s 5ms/step - loss: 82.5145\n",
            "Epoch 83/100\n",
            "63/63 [==============================] - 0s 5ms/step - loss: 82.5568\n",
            "Epoch 84/100\n",
            "63/63 [==============================] - 0s 5ms/step - loss: 82.5668\n",
            "Epoch 85/100\n",
            "63/63 [==============================] - 0s 5ms/step - loss: 82.5346\n",
            "Epoch 86/100\n",
            "63/63 [==============================] - 0s 5ms/step - loss: 82.4600\n",
            "Epoch 87/100\n",
            "63/63 [==============================] - 0s 6ms/step - loss: 82.4449\n",
            "Epoch 88/100\n",
            "63/63 [==============================] - 0s 5ms/step - loss: 82.4299\n",
            "Epoch 89/100\n",
            "63/63 [==============================] - 0s 5ms/step - loss: 82.4023\n",
            "Epoch 90/100\n",
            "63/63 [==============================] - 0s 5ms/step - loss: 82.5732\n",
            "Epoch 91/100\n",
            "63/63 [==============================] - 0s 5ms/step - loss: 82.5022\n",
            "Epoch 92/100\n",
            "63/63 [==============================] - 0s 6ms/step - loss: 82.4113\n",
            "Epoch 93/100\n",
            "63/63 [==============================] - 0s 5ms/step - loss: 82.5153\n",
            "Epoch 94/100\n",
            "63/63 [==============================] - 0s 5ms/step - loss: 82.5109\n",
            "Epoch 95/100\n",
            "63/63 [==============================] - 0s 5ms/step - loss: 82.4884\n",
            "Epoch 96/100\n",
            "63/63 [==============================] - 0s 4ms/step - loss: 82.5330\n",
            "Epoch 97/100\n",
            "63/63 [==============================] - 0s 5ms/step - loss: 82.4121\n",
            "Epoch 98/100\n",
            "63/63 [==============================] - 0s 5ms/step - loss: 82.4871\n",
            "Epoch 99/100\n",
            "63/63 [==============================] - 0s 5ms/step - loss: 82.4756\n",
            "Epoch 100/100\n",
            "63/63 [==============================] - 0s 5ms/step - loss: 82.3724\n"
          ]
        },
        {
          "output_type": "execute_result",
          "data": {
            "text/plain": [
              "<keras.callbacks.History at 0x7b49b043a020>"
            ]
          },
          "metadata": {},
          "execution_count": 78
        }
      ]
    },
    {
      "cell_type": "code",
      "source": [
        "pred = model.predict(X)"
      ],
      "metadata": {
        "colab": {
          "base_uri": "https://localhost:8080/"
        },
        "id": "wdNThjWOO6z7",
        "outputId": "eb0cbb6b-c681-4942-f3ed-033f74ebdae1"
      },
      "execution_count": 79,
      "outputs": [
        {
          "output_type": "stream",
          "name": "stdout",
          "text": [
            "63/63 [==============================] - 0s 2ms/step\n"
          ]
        }
      ]
    }
  ]
}